{
 "cells": [
  {
   "cell_type": "code",
   "execution_count": 28,
   "metadata": {},
   "outputs": [],
   "source": [
    "from gurobipy import *\n",
    "import  matplotlib.pyplot as plt\n",
    "import numpy as np\n",
    "\n"
   ]
  },
  {
   "cell_type": "markdown",
   "metadata": {},
   "source": [
    "# Exercice 1\n",
    "## 1.1) maxmin\n",
    "\n",
    "\n",
    "\\begin{align*}\n",
    "\\max \\quad & t \\\\\n",
    "\\text{sous contraintes} \\quad & t \\leq \\sum_{i=1}^{n} v_{i,1} x_i \\\\\n",
    "& t \\leq \\sum_{i=1}^{n} v_{i,2} x_i \\\\\n",
    "& \\sum_{i=1}^{n} w_i x_i \\leq W \\\\\n",
    "& x_i \\in \\{0, 1\\}, \\quad \\forall i = 1, \\ldots, n\n",
    "\\end{align*}\n",
    "\n"
   ]
  },
  {
   "cell_type": "code",
   "execution_count": 29,
   "metadata": {},
   "outputs": [],
   "source": [
    "c = 100\n",
    "valeurs_scenarios = [[70,18,16,14,12,10,8,6,4,2],\n",
    "                    [2,4,6,8,10,12,14,16,18,70]]\n",
    "p = [60,10,15,20,25,20,5,15,20,60]\n",
    "n = list(set([len(s) for s in valeurs_scenarios]))\n",
    "assert len(n) == 1, \"Nombre des objets scénarios n'est pas égal\"\n",
    "n = n[0]\n",
    "assert n == len(p), \"Nombre des objects et poids n'est pas égale\""
   ]
  },
  {
   "cell_type": "code",
   "execution_count": 30,
   "metadata": {},
   "outputs": [],
   "source": [
    "def model_sad_maxmin(c,valeurs_scenarios, p):\n",
    "    model = Model()\n",
    "    model.params.LogToConsole = False\n",
    "\n",
    "    t = model.addVar(vtype = GRB.INTEGER)\n",
    "    x = model.addVars(n, vtype=GRB.BINARY)\n",
    "\n",
    "    model.setObjective(t, GRB.MAXIMIZE)\n",
    "\n",
    "    model.addConstr(quicksum(p[i] * x[i] for i in range(n)) <= c) # contraint de poids maximum\n",
    "\n",
    "    for s_p in valeurs_scenarios:\n",
    "        model.addConstr(t <= quicksum(s_p[i] * x[i] for i in range(n))) # contraint de valeur minimale pour scénario s\n",
    "\n",
    "    model.optimize()\n",
    "    objets_selectiones = [i for i in range(n) if x[i].X > 0.5]\n",
    "    profit = int(model.objVal)\n",
    "\n",
    "    vecteur_image_z = []\n",
    "    for v_s in valeurs_scenarios:\n",
    "        vecteur_image_z.append(sum([v for i,v in enumerate(v_s) if i in objets_selectiones]))\n",
    "\n",
    "    return {'vecteur_z':vecteur_image_z, 'objets': objets_selectiones, 'profit': profit}"
   ]
  },
  {
   "cell_type": "code",
   "execution_count": 31,
   "metadata": {},
   "outputs": [
    {
     "data": {
      "text/plain": [
       "{'vecteur_z': [66, 66], 'objets': [1, 2, 3, 6, 7, 8], 'profit': 66}"
      ]
     },
     "execution_count": 31,
     "metadata": {},
     "output_type": "execute_result"
    }
   ],
   "source": [
    "model_sad_maxmin(c,valeurs_scenarios,p)"
   ]
  },
  {
   "cell_type": "markdown",
   "metadata": {},
   "source": [
    "## 1.2) minmax regret\n",
    "\n",
    "\\begin{align*}\n",
    "\\min \\quad & t \\\\\n",
    "\\text{sous contraintes} \\quad & t \\geq z_1^* - \\sum_{i=1}^{n} v_{i,1} x_i \\\\\n",
    "& t \\geq z_2^* - \\sum_{i=1}^{n} v_{i,2} x_i \\\\\n",
    "& \\sum_{i=1}^{n} w_i x_i \\leq W \\\\\n",
    "& x_i \\in \\{0, 1\\}, \\quad \\forall i = 1, \\ldots, n\n",
    "\\end{align*}\n",
    "\n",
    "$z_i^*$ étant la meilleure valeure pour le scénario i "
   ]
  },
  {
   "cell_type": "code",
   "execution_count": 32,
   "metadata": {},
   "outputs": [],
   "source": [
    "def model_sad_regret(c,valeurs_scenarios, p):\n",
    "\n",
    "        # trouver les meilleures solutions pour chaque scénario\n",
    "    z_etoile = []\n",
    "    for v_s in valeurs_scenarios:\n",
    "        #print(v_s)\n",
    "        gurobi_solution = model_sad_maxmin(c, [v_s], p) # model_sad_maxmin avec un scénario est égal à optimiser le problème sad\n",
    "        z_etoile.append(gurobi_solution['profit'])\n",
    "    #print('Z_Etoile', z_etoile)\n",
    "\n",
    "    model = Model()\n",
    "    model.params.LogToConsole = False\n",
    "    t = model.addVar(vtype = GRB.INTEGER)\n",
    "    x = model.addVars(n, vtype=GRB.BINARY)\n",
    "\n",
    "    model.setObjective(t, GRB.MINIMIZE)\n",
    "\n",
    "    model.addConstr(quicksum(p[i] * x[i] for i in range(n)) <= c) # contraint de poids maximum\n",
    "\n",
    "    for i, s_p in enumerate(valeurs_scenarios):\n",
    "        model.addConstr(t >= z_etoile[i] - quicksum(s_p[i] * x[i] for i in range(n))) # contraint de regret maximale pour scénario s\n",
    "\n",
    "    model.optimize()\n",
    "    objets_selectiones = [i for i in range(n) if x[i].X > 0.5]\n",
    "    min_regret = int(model.objVal)\n",
    "\n",
    "    vecteur_image_z = []\n",
    "    for v_s in valeurs_scenarios:\n",
    "        vecteur_image_z.append(sum([v for i,v in enumerate(v_s) if i in objets_selectiones]))\n",
    "\n",
    "    return {'vecteur_z':vecteur_image_z, 'objets': objets_selectiones, 'min_regret': min_regret, 'profit': min(vecteur_image_z), 'z_etoile': z_etoile}"
   ]
  },
  {
   "cell_type": "code",
   "execution_count": 33,
   "metadata": {},
   "outputs": [
    {
     "data": {
      "text/plain": [
       "{'vecteur_z': [62, 70],\n",
       " 'objets': [1, 2, 5, 6, 7, 8],\n",
       " 'min_regret': 50,\n",
       " 'profit': 62,\n",
       " 'z_etoile': [112, 118]}"
      ]
     },
     "execution_count": 33,
     "metadata": {},
     "output_type": "execute_result"
    }
   ],
   "source": [
    "sol_regret = model_sad_regret(c,valeurs_scenarios,p)\n",
    "z_etoile = sol_regret['z_etoile']\n",
    "sol_regret"
   ]
  },
  {
   "cell_type": "markdown",
   "metadata": {},
   "source": [
    "## 1.3)"
   ]
  },
  {
   "cell_type": "code",
   "execution_count": 34,
   "metadata": {},
   "outputs": [
    {
     "name": "stdout",
     "output_type": "stream",
     "text": [
      "z_etoile  [112, 118]\n",
      "vecteur z [62, 70]\n"
     ]
    },
    {
     "data": {
      "text/plain": [
       "[<matplotlib.lines.Line2D at 0x779644e74d90>]"
      ]
     },
     "execution_count": 34,
     "metadata": {},
     "output_type": "execute_result"
    },
    {
     "data": {
      "image/png": "[encoded data removed]",
      "text/plain": [
       "<Figure size 640x480 with 1 Axes>"
      ]
     },
     "metadata": {},
     "output_type": "display_data"
    }
   ],
   "source": [
    "print(\"z_etoile \", z_etoile)\n",
    "print(\"vecteur z\", sol_regret['vecteur_z'])\n",
    "plt.plot(z_etoile[0],z_etoile[0],'ro')\n",
    "plt.plot(z_etoile[1],z_etoile[1],'bo')\n",
    "plt.plot(sol_regret['vecteur_z'][0],sol_regret['vecteur_z'][0], 'go')\n",
    "plt.plot(sol_regret['vecteur_z'][0],sol_regret['vecteur_z'][0], 'yo')"
   ]
  },
  {
   "cell_type": "markdown",
   "metadata": {},
   "source": [
    "## ??????"
   ]
  },
  {
   "cell_type": "markdown",
   "metadata": {},
   "source": [
    "## 1.4)"
   ]
  },
  {
   "cell_type": "code",
   "execution_count": 35,
   "metadata": {},
   "outputs": [
    {
     "data": {
      "text/plain": [
       "{'vecteur_z': [np.int64(250),\n",
       "  np.int64(243),\n",
       "  np.int64(315),\n",
       "  np.int64(247),\n",
       "  np.int64(295)],\n",
       " 'objets': [2, 4, 6, 7, 8, 9],\n",
       " 'profit': 243}"
      ]
     },
     "execution_count": 35,
     "metadata": {},
     "output_type": "execute_result"
    }
   ],
   "source": [
    "\n",
    "def generate_instances(n_values, p_values, num_instances=1, cost_range=(1, 100), utility_range=(1, 100)):\n",
    "    instances = []\n",
    "    for n in n_values:\n",
    "        for p in p_values:\n",
    "            for _ in range(num_instances):\n",
    "                # Générer les coûts des projets\n",
    "                costs = np.random.randint(cost_range[0], cost_range[1] + 1, size=p)\n",
    "                \n",
    "                # Calculer le budget à 50% du coût total des projets\n",
    "                budget = int(0.5 * np.sum(costs))\n",
    "                \n",
    "                # Générer les utilités des projets pour chaque scénario\n",
    "                utilities = np.random.randint(utility_range[0], utility_range[1] + 1, size=(n, p))\n",
    "                \n",
    "                # Enregistrer l'instance avec coûts, utilités et budget\n",
    "                instance = {\n",
    "                    'n': n,\n",
    "                    'p': p,\n",
    "                    'cout': costs,\n",
    "                    'budget': budget,\n",
    "                    'valeurs': utilities\n",
    "                }\n",
    "                instances.append(instance)\n",
    "    return instances\n",
    "\n",
    "# Exemple d'utilisation\n",
    "n_values = [5, 10, 15]  # Nombre de scénarios\n",
    "p_values = [10, 15, 20] # Nombre de projets\n",
    "\n",
    "instances = generate_instances(n_values, p_values)\n",
    "len(instances)\n",
    "instances\n",
    "\n",
    "model_sad_maxmin(c = instances[0]['budget'], valeurs_scenarios=instances[0]['valeurs'], p=instances[0]['cout'])\n"
   ]
  },
  {
   "cell_type": "code",
   "execution_count": 36,
   "metadata": {},
   "outputs": [
    {
     "name": "stdout",
     "output_type": "stream",
     "text": [
      "(n=15, p=10) - Temps moyen maxmin: 0.0061 s, Temps moyen regret: 0.0466 s\n",
      "(n=15, p=15) - Temps moyen maxmin: 0.0037 s, Temps moyen regret: 0.0387 s\n",
      "(n=15, p=20) - Temps moyen maxmin: 0.0015 s, Temps moyen regret: 0.0063 s\n",
      "(n=10, p=10) - Temps moyen maxmin: 0.0042 s, Temps moyen regret: 0.0355 s\n",
      "(n=10, p=15) - Temps moyen maxmin: 0.0063 s, Temps moyen regret: 0.0280 s\n",
      "(n=10, p=20) - Temps moyen maxmin: 0.0012 s, Temps moyen regret: 0.0041 s\n",
      "(n=5, p=10) - Temps moyen maxmin: 0.0023 s, Temps moyen regret: 0.0140 s\n",
      "(n=5, p=15) - Temps moyen maxmin: 0.0023 s, Temps moyen regret: 0.0158 s\n",
      "(n=5, p=20) - Temps moyen maxmin: 0.0019 s, Temps moyen regret: 0.0042 s\n"
     ]
    },
    {
     "data": {
      "image/png": "[encoded data removed]",
      "text/plain": [
       "<Figure size 1200x600 with 4 Axes>"
      ]
     },
     "metadata": {},
     "output_type": "display_data"
    }
   ],
   "source": [
    "import time\n",
    "\n",
    "\n",
    "def average_resolution_time(model_function, instances):\n",
    "    \"\"\"Calcule le temps moyen de résolution pour un ensemble d'instances donné avec un modèle spécifique.\"\"\"\n",
    "    total_time = 0\n",
    "    for instance in instances:\n",
    "        start_time = time.time()\n",
    "        \n",
    "        # Appeler la fonction modèle pour résoudre l'instance\n",
    "        model_function(c = instances[0]['budget'], valeurs_scenarios=instances[0]['valeurs'], p=instances[0]['cout'])\n",
    "        \n",
    "        end_time = time.time()\n",
    "        total_time += (end_time - start_time)\n",
    "    \n",
    "    # Calculer le temps moyen pour les 10 instances\n",
    "    avg_time = total_time / len(instances)\n",
    "    return avg_time\n",
    "\n",
    "def main(n_values, p_values, num_instances=10):\n",
    "    \n",
    "    maxmin_times = np.zeros((len(n_values), len(p_values)))\n",
    "    regret_times = np.zeros((len(n_values), len(p_values)))\n",
    "    \n",
    "    for i, n in enumerate(n_values):\n",
    "        for j, p in enumerate(p_values):\n",
    "            # Générer 10 instances pour le couple (n, p)\n",
    "            instances = generate_instances([n], [p], num_instances=num_instances)\n",
    "            \n",
    "            # Calculer le temps moyen pour le modèle maxmin\n",
    "            avg_time_maxmin = average_resolution_time(model_sad_maxmin, instances)\n",
    "            maxmin_times[i, j] = avg_time_maxmin\n",
    "            \n",
    "            # Calculer le temps moyen pour le modèle regret\n",
    "            avg_time_regret = average_resolution_time(model_sad_regret, instances)\n",
    "            regret_times[i, j] = avg_time_regret\n",
    "            \n",
    "            print(f\"(n={n}, p={p}) - Temps moyen maxmin: {avg_time_maxmin:.4f} s, Temps moyen regret: {avg_time_regret:.4f} s\")\n",
    "    \n",
    "    return maxmin_times, regret_times, n_values, p_values\n",
    "\n",
    "def plot_results(maxmin_times, regret_times, n_values, p_values):\n",
    "    fig, axs = plt.subplots(1, 2, figsize=(12, 6))\n",
    "    \n",
    "    # Heatmap pour le modèle maxmin\n",
    "    im1 = axs[0].imshow(maxmin_times, cmap='viridis', aspect='auto')\n",
    "    axs[0].set_title(\"Temps moyen de résolution - Maxmin\")\n",
    "    axs[0].set_xlabel(\"Nombre de projets (p)\")\n",
    "    axs[0].set_ylabel(\"Nombre de scénarios (n)\")\n",
    "    axs[0].set_xticks(np.arange(len(p_values)))\n",
    "    axs[0].set_yticks(np.arange(len(n_values)))\n",
    "    axs[0].set_xticklabels(p_values)\n",
    "    axs[0].set_yticklabels(n_values)\n",
    "    fig.colorbar(im1, ax=axs[0], orientation='vertical')\n",
    "    \n",
    "    # Heatmap pour le modèle regret\n",
    "    im2 = axs[1].imshow(regret_times, cmap='viridis', aspect='auto')\n",
    "    axs[1].set_title(\"Temps moyen de résolution - Regret\")\n",
    "    axs[1].set_xlabel(\"Nombre de projets (p)\")\n",
    "    axs[1].set_ylabel(\"Nombre de scénarios (n)\")\n",
    "    axs[1].set_xticks(np.arange(len(p_values)))\n",
    "    axs[1].set_yticks(np.arange(len(n_values)))\n",
    "    axs[1].set_xticklabels(p_values)\n",
    "    axs[1].set_yticklabels(n_values)\n",
    "    fig.colorbar(im2, ax=axs[1], orientation='vertical')\n",
    "    \n",
    "    plt.tight_layout()\n",
    "    plt.show()\n",
    "\n",
    "# Paramètres d'entrée\n",
    "n_values = [15, 10, 5]  # Nombre de scénarios\n",
    "p_values = [10, 15, 20] # Nombre de projets\n",
    "\n",
    "# Lancer l'évaluation du temps moyen de résolution\n",
    "maxmin_times, regret_times, n_values, p_values = main(n_values, p_values)\n",
    "\n",
    "# Afficher les résultats avec matplotlib\n",
    "plot_results(maxmin_times, regret_times, n_values, p_values)\n"
   ]
  },
  {
   "cell_type": "code",
   "execution_count": null,
   "metadata": {},
   "outputs": [],
   "source": []
  }
 ],
 "metadata": {
  "kernelspec": {
   "display_name": ".venv",
   "language": "python",
   "name": "python3"
  },
  "language_info": {
   "codemirror_mode": {
    "name": "ipython",
    "version": 3
   },
   "file_extension": ".py",
   "mimetype": "text/x-python",
   "name": "python",
   "nbconvert_exporter": "python",
   "pygments_lexer": "ipython3",
   "version": "3.10.12"
  }
 },
 "nbformat": 4,
 "nbformat_minor": 2
}
