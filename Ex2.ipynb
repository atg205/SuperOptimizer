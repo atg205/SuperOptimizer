{
 "cells": [
  {
   "cell_type": "markdown",
   "metadata": {},
   "source": [
    "# Exercice 2"
   ]
  },
  {
   "cell_type": "markdown",
   "metadata": {},
   "source": [
    "**Question 1)**: Pour tout vecteur $ z \\in \\mathbb{R} $, on note $ L(z) $ le vecteur $ (L_1(z), \\dots, L_n(z)) $ dont la composante $ L_k(z) $ est définie par \n",
    "\n",
    "$L_k(z) = \\sum_{i=1}^{k} z(i)$.\n",
    "\n",
    "Expliquer pourquoi $ L_k(z) $ est la valeur optimale du programme linéaire en variables 0-1 suivant :\n",
    "\n",
    "$\\min \\sum_{i=1}^{n} a_{ik} z_i$\n",
    "\n",
    "sous les contraintes :\n",
    "\n",
    "$\\sum_{i=1}^{n} a_{ik} = k$,\n",
    "\n",
    "$a_{ik} \\in \\{0, 1\\}, \\quad i = 1, \\dots, n$.\n",
    "\n",
    "**Explication**: Étant donné que le vecteur $ (z_{(1)x}, \\ldots, z_{(n)x}) $ est ordonné en ordre croissant, la somme $ \\sum_{i=1}^{k} z(i) $ correspond à la somme des $ k $ plus petites valeurs de $ z_i $ et donc à la valeur optimale du programme linéaire.\n",
    "\n"
   ]
  },
  {
   "cell_type": "markdown",
   "metadata": {},
   "source": [
    "**Question 2)**: \n",
    "\n",
    "Primal:\n",
    "\n",
    "\\begin{align*}\n",
    "\\min & \\sum_{i=1}^{n} a_{ik} z_i \\\\\n",
    "\\text{s.c.} \\quad & \\sum_{i=1}^{n} a_{ik} = k \\\\\n",
    "& 0 \\leq a_{ik} \\leq 1, \\quad i = 1, \\dots, n\n",
    "\\end{align*}\n",
    "\n",
    "Dual:\n",
    "\n",
    "\\begin{align*}\n",
    "\\max & \\quad k \\cdot r_k - \\sum_{i=1}^{n} b_{ik} \\\\\n",
    "\\text{s.c.} \\quad & r_k - b_{ik} \\leq z_i, \\quad \\forall i = 1, \\dots, n \\\\\n",
    "& b_{ik} \\geq 0, \\quad \\forall i = 1, \\dots, n\n",
    "\\end{align*}\n",
    "\n",
    "Trouver $L(2,9,6,8,5,4)$:"
   ]
  },
  {
   "cell_type": "code",
   "execution_count": null,
   "metadata": {},
   "outputs": [],
   "source": [
    "from gurobipy import *\n"
   ]
  }
 ],
 "metadata": {
  "language_info": {
   "name": "python"
  }
 },
 "nbformat": 4,
 "nbformat_minor": 2
}
