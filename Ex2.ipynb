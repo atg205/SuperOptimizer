{
 "cells": [
  {
   "cell_type": "markdown",
   "metadata": {},
   "source": [
    "# Exercice 2"
   ]
  },
  {
   "cell_type": "markdown",
   "metadata": {},
   "source": [
    "**Question 1)**: Pour tout vecteur $ z \\in \\mathbb{R} $, on note $ L(z) $ le vecteur $ (L_1(z), \\dots, L_n(z)) $ dont la composante $ L_k(z) $ est définie par \n",
    "\n",
    "$L_k(z) = \\sum_{i=1}^{k} z(i)$.\n",
    "\n",
    "Expliquer pourquoi $ L_k(z) $ est la valeur optimale du programme linéaire en variables 0-1 suivant :\n",
    "\n",
    "$\\min \\sum_{i=1}^{n} a_{ik} z_i$\n",
    "\n",
    "sous les contraintes :\n",
    "\n",
    "$\\sum_{i=1}^{n} a_{ik} = k$,\n",
    "\n",
    "$a_{ik} \\in \\{0, 1\\}, \\quad i = 1, \\dots, n$.\n",
    "\n",
    "**Explication**: Étant donné que le vecteur $ (z_{(1)x}, \\ldots, z_{(n)x}) $ est ordonné en ordre croissant, la somme $ \\sum_{i=1}^{k} z(i) $ correspond à la somme des $ k $ plus petites valeurs de $ z_i $ et donc à la valeur optimale du programme linéaire.\n",
    "\n"
   ]
  },
  {
   "cell_type": "markdown",
   "metadata": {},
   "source": [
    "**Question 2)**: \n",
    "\n",
    "Primal:\n",
    "\n",
    "\\begin{align*}\n",
    "\\min & \\sum_{i=1}^{n} a_{ik} z_i \\\\\n",
    "\\text{s.c.} \\quad & \\sum_{i=1}^{n} a_{ik} = k \\\\\n",
    "& 0 \\leq a_{ik} \\leq 1, \\quad i = 1, \\dots, n\n",
    "\\end{align*}\n",
    "\n",
    "Dual:\n",
    "\n",
    "\\begin{align*}\n",
    "\\max & \\quad k \\cdot r_k - \\sum_{i=1}^{n} b_{ik} \\\\\n",
    "\\text{s.c.} \\quad & r_k - b_{ik} \\leq z_i, \\quad \\forall i = 1, \\dots, n \\\\\n",
    "& b_{ik} \\geq 0, \\quad \\forall i = 1, \\dots, n\n",
    "\\end{align*}\n",
    "\n",
    "$r_k$ -> k plus petit élément de $z$\n",
    "\n",
    "Trouver $L(2,9,6,8,5,4)$:"
   ]
  },
  {
   "cell_type": "code",
   "execution_count": 11,
   "metadata": {},
   "outputs": [],
   "source": [
    "from gurobipy import *\n",
    "import numpy as np\n",
    "import  matplotlib.pyplot as plt\n"
   ]
  },
  {
   "cell_type": "code",
   "execution_count": 12,
   "metadata": {},
   "outputs": [
    {
     "data": {
      "text/plain": [
       "34"
      ]
     },
     "execution_count": 12,
     "metadata": {},
     "output_type": "execute_result"
    }
   ],
   "source": [
    "z = [2,9,6,8,5,4]\n",
    "n = len(z)\n",
    "sum(z)"
   ]
  },
  {
   "cell_type": "code",
   "execution_count": 13,
   "metadata": {},
   "outputs": [
    {
     "name": "stdout",
     "output_type": "stream",
     "text": [
      "L_1(z) = 2\n",
      "L_2(z) = 6\n",
      "L_3(z) = 11\n",
      "L_4(z) = 17\n",
      "L_5(z) = 25\n",
      "L_6(z) = 34\n"
     ]
    },
    {
     "name": "stderr",
     "output_type": "stream",
     "text": [
      "/tmp/ipykernel_7655/3516057902.py:8: DeprecationWarning: Calling quicksum on a tupledict is deprecated, use .sum() instead.\n",
      "  model.setObjective((k) * rk - quicksum(bki), GRB.MAXIMIZE)\n"
     ]
    }
   ],
   "source": [
    "for k in range(1,n+1):\n",
    "    model = Model()\n",
    "    model.params.LogToConsole = False\n",
    "\n",
    "    rk = model.addVar(vtype=GRB.CONTINUOUS, name='rk')\n",
    "    bki = model.addVars(n,vtype=GRB.CONTINUOUS,name=f'bi{k}')\n",
    "\n",
    "    model.setObjective((k) * rk - quicksum(bki), GRB.MAXIMIZE)\n",
    "\n",
    "    model.addConstrs(((rk-bki[i])<=z[i] for i in range(n)), name='c1')\n",
    "    model.addConstrs((bki[i]>=0 for i in range(n)), name='c2')\n",
    "\n",
    "    model.optimize()\n",
    "    composante = int(model.objVal)\n",
    "    print(f\"L_{k}(z) = {composante}\")\n",
    "   # print(rk)\n",
    "    #print(bki)\n",
    "   # print(\"-------------\")\n",
    "\n"
   ]
  },
  {
   "cell_type": "markdown",
   "metadata": {},
   "source": [
    "**Question 3:** Montrer que \n",
    "\\begin{align*}\n",
    "g(x)& =\\sum_{i=1}^{n}w_iz_{(i)}(x)\\\\\n",
    "&=\\sum_{k=1}^{n}w'_k L_k(z(x))\n",
    "\\end{align*}\n",
    "**Explication:** \n",
    "\n",
    "\\begin{align*}\n",
    "\\text{par définition: }z_{(k)}(x)&=L_k(z(x)) - L_{k-1}(z(x))\\\\\n",
    "g(x)& =\\sum_{i=1}^{n}w_iz_{(i)}(x)\\\\\n",
    "&=w_1z_{(1)}+w_2z_{(2)}+\\ldots+w_nz_{(n)}\\\\\n",
    "&=w_1L_1(z(x))+w_2(L_2(z(x))-L_1(z(x)))+\\ldots+w_n(L_n(z(x))-L_{n-1}(z(x))\\\\\n",
    "&=(w_1-w_2)L_1(z(x))+(w_2-w_3)(L_2(z(x)))+\\ldots+(w_{n-1}-w_{n})L_n\\\\\n",
    "&=\\sum^n_{k=1}w'_kL_k(z(x))\n",
    "\\end{align*}"
   ]
  },
  {
   "cell_type": "markdown",
   "metadata": {},
   "source": [
    "**Question 4:**\n",
    "\\begin{align*}\n",
    "\\max &\\sum_{k=1}^n w'_k \\left( k \\cdot r_k - \\sum_{i=1}^n b_{ik} \\right) \\\\\n",
    "\\text{s.c.} & \\quad r_k - b_{ik} \\leq z_i(x), \\quad i = 1, \\dots, n \\\\\n",
    "& \\quad b_{ik} \\geq 0, \\quad i = 1, \\dots, n \\\\\n",
    "& \\quad x \\in X\n",
    "\\end{align*}\n",
    "\n",
    "$x \\in X$ -> solution réalisables "
   ]
  },
  {
   "cell_type": "code",
   "execution_count": 14,
   "metadata": {},
   "outputs": [],
   "source": [
    "def maxOWA(C_max,valeurs_scenarios, couts, w=[2,1]):\n",
    "\n",
    "    model = Model()\n",
    "    model.params.LogToConsole = False\n",
    "\n",
    "    n_projets = len(valeurs_scenarios[0])\n",
    "    n_scenarios = len(valeurs_scenarios)\n",
    "\n",
    "    x = model.addVars(n_projets,vtype=GRB.BINARY,name='x')\n",
    "    z = []\n",
    "    for i in range(n_scenarios):\n",
    "        z.append(quicksum([valeurs_scenarios[i][j]*x[j] for j in range(n_projets)]))\n",
    "\n",
    "    w_apostrophe = [w[k] - w[k+1] for k in range(len(w)-1)]\n",
    "    w_apostrophe.append(w[-1])\n",
    "    print(w_apostrophe)\n",
    "    rk = model.addVars(n_scenarios,vtype=GRB.CONTINUOUS, name='rk')\n",
    "    bik = []\n",
    "    \n",
    "    for k in range(n_scenarios):\n",
    "        bik.append(model.addVars(n_scenarios,vtype=GRB.CONTINUOUS, lb=0,name=f'bik {k}'))\n",
    "    objectif = quicksum([w_apostrophe[k]*((k+1)*rk[k]-quicksum([bik[k][i] for i in range(n_scenarios)])) for k in range(n_scenarios)])\n",
    "    \n",
    "    model.setObjective(objectif, GRB.MAXIMIZE)\n",
    "    \n",
    "    for k in range(n_scenarios):\n",
    "        for i in range(n_scenarios):\n",
    "            model.addConstr(rk[k]-bik[k][i]<=z[i]) # premiere contrainte\n",
    "\n",
    "    model.addConstr(quicksum(couts[j] * x[j] for j in range(n_projets)) <= C_max, name=\"ContraineBudget\")\n",
    "    model.optimize()\n",
    "    #print(model.ObjVal)\n",
    "    #objets_selectiones = [i for i in range(n_projets) if x[i].X > 0.5]\n",
    "    #print(objets_selectiones)\n",
    "    objets_selectiones = [i for i in range(n_projets) if x[i].X > 0.5]\n",
    "    profit = int(model.objVal)\n",
    "    vecteur_image_z = []\n",
    "    for v_s in valeurs_scenarios:\n",
    "        vecteur_image_z.append(sum([v for i,v in enumerate(v_s) if i in objets_selectiones]))\n",
    "    objets_selectiones = [o+1 for o in objets_selectiones]\n",
    "    return {'vecteur_z':vecteur_image_z, 'objets': objets_selectiones, 'profit': profit}\n",
    "\n"
   ]
  },
  {
   "cell_type": "code",
   "execution_count": 15,
   "metadata": {},
   "outputs": [
    {
     "name": "stdout",
     "output_type": "stream",
     "text": [
      "[1, 1]\n"
     ]
    },
    {
     "data": {
      "text/plain": [
       "{'vecteur_z': [66, 66], 'objets': [2, 3, 4, 7, 8, 9], 'profit': 198}"
      ]
     },
     "execution_count": 15,
     "metadata": {},
     "output_type": "execute_result"
    }
   ],
   "source": [
    "# projets de l'exemple 1\n",
    "valeurs_scenarios = [[70,18,16,14,12,10,8,6,4,2],\n",
    "                       [2,4,6,8,10,12,14,16,18,70]]\n",
    "couts = [60,10,15,20,25,20,5,15,20,60]\n",
    "C_max = 100\n",
    "maxOWA(C_max,valeurs_scenarios, couts, w=[2,1])"
   ]
  },
  {
   "cell_type": "markdown",
   "metadata": {},
   "source": [
    "**Question 5:** trouver un formulation linéaire pour le critère de *minOWA*\n",
    "\n",
    "**Réponse:** \n",
    "\n",
    "Primal:\n",
    "\\begin{align*}\n",
    "    L_k(z)&=\\sum_{i=1}^{k} r(x,s_{(i)}) \\text{ regret en ordre décroissant, donc:}\\\\\n",
    "    \\max &\\sum_{i=1}^n a_{ik} r(x,s_{(i)})\\\\\n",
    "\\text{s.c.} \\quad & \\sum_{i=1}^{n} a_{ik} = k \\\\\n",
    "& 0 \\leq a_{ik} \\leq 1, \\quad i = 1, \\dots, n\n",
    "\\end{align*}\n",
    "$r(x,s_{(i)}) = z_i^*-z_i(x)$\n",
    "\n",
    "Dual:\n",
    "\\begin{align*}\n",
    "\\min & \\quad k \\cdot r_k + \\sum_{i=1}^{n} b_{ik} \\\\\n",
    "\\text{s.c.} \\quad & r_k + b_{ik} \\geq r(x,s_{(i)}), \\quad \\forall i = 1, \\dots, n \\\\\n",
    "& b_{ik} \\geq 0, \\quad \\forall i = 1, \\dots, n\n",
    "\\end{align*}\n",
    "\n"
   ]
  },
  {
   "cell_type": "code",
   "execution_count": 16,
   "metadata": {},
   "outputs": [
    {
     "name": "stdout",
     "output_type": "stream",
     "text": [
      "L_1(z) = 9\n",
      "-------------\n",
      "L_2(z) = 17\n",
      "-------------\n",
      "L_3(z) = 23\n",
      "-------------\n",
      "L_4(z) = 28\n",
      "-------------\n",
      "L_5(z) = 32\n",
      "-------------\n",
      "L_6(z) = 34\n",
      "-------------\n"
     ]
    },
    {
     "name": "stderr",
     "output_type": "stream",
     "text": [
      "/tmp/ipykernel_7655/4154286.py:10: DeprecationWarning: Calling quicksum on a tupledict is deprecated, use .sum() instead.\n",
      "  model.setObjective((k) * rk + quicksum(bki), GRB.MINIMIZE)\n"
     ]
    }
   ],
   "source": [
    "z = [2,9,6,8,5,4]\n",
    "n = len(z)\n",
    "for k in range(1,n+1):\n",
    "    model = Model()\n",
    "    model.params.LogToConsole = False\n",
    "\n",
    "    rk = model.addVar(vtype=GRB.CONTINUOUS, name='rk')\n",
    "    bki = model.addVars(n,vtype=GRB.CONTINUOUS,name=f'bi{k}')\n",
    "\n",
    "    model.setObjective((k) * rk + quicksum(bki), GRB.MINIMIZE)\n",
    "\n",
    "    model.addConstrs(((rk+bki[i])>=z[i] for i in range(n)), name='c1')\n",
    "    model.addConstrs((bki[i]>=0 for i in range(n)), name='c2')\n",
    "\n",
    "    model.optimize()\n",
    "    composante = int(model.objVal)\n",
    "    print(f\"L_{k}(z) = {composante}\")\n",
    "    #print(rk)\n",
    "    #print(bki)\n",
    "    print(\"-------------\")"
   ]
  },
  {
   "cell_type": "markdown",
   "metadata": {},
   "source": [
    "Formulation entière:\n",
    "\n",
    "\\begin{align*}\n",
    "\\min &\\sum_{k=1}^n w'_k \\left( k \\cdot r_k + \\sum_{i=1}^n b_{ik} \\right) \\\\\n",
    "\\text{s.c.} & \\quad r_k + b_{ik} \\geq r(x,s_{(i)}), \\quad i = 1, \\dots, n \\\\\n",
    "& \\quad b_{ik} \\geq 0, \\quad i = 1, \\dots, n \\\\\n",
    "& \\quad x \\in X\n",
    "\\end{align*}"
   ]
  },
  {
   "cell_type": "code",
   "execution_count": 17,
   "metadata": {},
   "outputs": [],
   "source": [
    "# optimiser le probleme sad pour trouver z*\n",
    "def model_sad_maxmin(c,valeurs_scenarios, p):\n",
    "    n = len(p)\n",
    "    model = Model()\n",
    "    model.params.LogToConsole = False\n",
    "\n",
    "    t = model.addVar(vtype = GRB.INTEGER)\n",
    "    x = model.addVars(n, vtype=GRB.BINARY)\n",
    "\n",
    "    model.setObjective(t, GRB.MAXIMIZE)\n",
    "\n",
    "    model.addConstr(quicksum(p[i] * x[i] for i in range(n)) <= c) # contraint de poids maximum\n",
    "\n",
    "    for s_p in valeurs_scenarios:\n",
    "        model.addConstr(t <= quicksum(s_p[i] * x[i] for i in range(n))) # contraint de valeur minimale pour scénario s\n",
    "\n",
    "    model.optimize()\n",
    "    objets_selectiones = [i for i in range(n) if x[i].X > 0.5]\n",
    "    profit = int(model.objVal)\n",
    "\n",
    "    vecteur_image_z = []\n",
    "    for v_s in valeurs_scenarios:\n",
    "        vecteur_image_z.append(sum([v for i,v in enumerate(v_s) if i in objets_selectiones]))\n",
    "\n",
    "    return {'vecteur_z':vecteur_image_z, 'objets': objets_selectiones, 'profit': profit}\n",
    "\n"
   ]
  },
  {
   "cell_type": "code",
   "execution_count": 18,
   "metadata": {},
   "outputs": [],
   "source": [
    "def minOWA(C_max,valeurs_scenarios, couts,w =[2,1]):\n",
    "\n",
    "    z_etoile = []\n",
    "    # calculer z*\n",
    "    for v_s in valeurs_scenarios:\n",
    "        gurobi_solution = model_sad_maxmin(c=C_max, valeurs_scenarios=[v_s], p=couts) # model_sad_maxmin avec un scénario est égal à optimiser le problème sad\n",
    "        z_etoile.append(gurobi_solution['profit'])\n",
    "    print(z_etoile)\n",
    "    model = Model()\n",
    "    model.params.LogToConsole = False\n",
    "\n",
    "    n_projets = len(valeurs_scenarios[0])\n",
    "    n_scenarios = len(valeurs_scenarios)\n",
    "\n",
    "    x = model.addVars(n_projets,vtype=GRB.BINARY,name='x')\n",
    "\n",
    "    #w = [i+1 for i in range(n_scenarios)][::-1]\n",
    "\n",
    "    # calculer le regret r(x,s(i))\n",
    "    r = []\n",
    "    for i in range(n_scenarios):\n",
    "        z = quicksum([valeurs_scenarios[i][j]*x[j] for j in range(n_projets)])\n",
    "        r.append(z_etoile[i]-z)\n",
    "\n",
    "    w_apostrophe = [w[k] - w[k+1] for k in range(len(w)-1)]\n",
    "    w_apostrophe.append(w[-1])\n",
    "    rk = model.addVars(n_scenarios,vtype=GRB.CONTINUOUS, name='rk')\n",
    "    bik = []\n",
    "    for k in range(n_scenarios):\n",
    "        bik.append(model.addVars(n_scenarios,vtype=GRB.CONTINUOUS, lb=0,name=f'bik {k}'))\n",
    "#    print(w_apostrophe)\n",
    "\n",
    "    objectif = quicksum([w_apostrophe[k]*((k+1)*rk[k]+quicksum(bik[k][i] for i in range(n_scenarios))) for k in range(n_scenarios)])\n",
    "    model.setObjective(objectif, GRB.MINIMIZE)\n",
    "    for k in range(n_scenarios):\n",
    "        for i in range(n_scenarios):\n",
    "            model.addConstr(rk[k]+bik[k][i]>=r[i]) # premiere contrainte\n",
    "            model.addConstr(bik[k][i]>=0)\n",
    "\n",
    "    model.addConstr(quicksum(couts[j] * x[j] for j in range(n_projets)) <= C_max, name=\"BudgetConstraint\")\n",
    "    model.optimize()\n",
    "    objets_selectiones = [i for i in range(n_projets) if x[i].X > 0.5]\n",
    "    profit = int(model.objVal)\n",
    "    vecteur_image_z = []\n",
    "    for i,v_s in enumerate(valeurs_scenarios):\n",
    "        vecteur_image_z.append(sum([v for i,v in enumerate(v_s) if i in objets_selectiones]))\n",
    "    objets_selectiones = [o+1 for o in objets_selectiones]\n",
    "   \n",
    "    return {'vecteur_z':vecteur_image_z, 'objets': objets_selectiones, 'profit': profit}\n",
    "\n",
    " #   print(model.ObjVal)\n",
    "  #  objets_selectiones = [i for i in range(n_projets) if x[i].X > 0.5]\n",
    "  #  print(objets_selectiones)\n",
    "\n"
   ]
  },
  {
   "cell_type": "code",
   "execution_count": 19,
   "metadata": {},
   "outputs": [
    {
     "name": "stdout",
     "output_type": "stream",
     "text": [
      "[112, 118]\n"
     ]
    },
    {
     "data": {
      "text/plain": [
       "{'vecteur_z': [62, 70], 'objets': [2, 4, 5, 7, 8, 9], 'profit': 148}"
      ]
     },
     "execution_count": 19,
     "metadata": {},
     "output_type": "execute_result"
    }
   ],
   "source": [
    "# projets de l'exemple 1\n",
    "valeurs_scenarios = [[70,18,16,14,12,10,8,6,4,2],\n",
    "                       [2,4,6,8,10,12,14,16,18,70]]\n",
    "couts = [60,10,15,20,25,20,5,15,20,60]\n",
    "C_max = 100\n",
    "minOWA(C_max,valeurs_scenarios, couts)"
   ]
  },
  {
   "cell_type": "code",
   "execution_count": 10,
   "metadata": {},
   "outputs": [],
   "source": [
    "\n",
    "def generate_instances(n_values, p_values, num_instances=1, cost_range=(1, 100), utility_range=(1, 100)):\n",
    "    instances = []\n",
    "    for n in n_values:\n",
    "        for p in p_values:\n",
    "            for _ in range(num_instances):\n",
    "                # Générer les coûts des projets\n",
    "                costs = np.random.randint(cost_range[0], cost_range[1] + 1, size=p)\n",
    "                \n",
    "                # Calculer le budget à 50% du coût total des projets\n",
    "                budget = int(0.5 * np.sum(costs))\n",
    "                \n",
    "                # Générer les utilités des projets pour chaque scénario\n",
    "                utilities = np.random.randint(utility_range[0], utility_range[1] + 1, size=(n, p))\n",
    "                \n",
    "                # Enregistrer l'instance avec coûts, utilités et budget\n",
    "                instance = {\n",
    "                    'n': n,\n",
    "                    'p': p,\n",
    "                    'cout': costs,\n",
    "                    'budget': budget,\n",
    "                    'valeurs': utilities\n",
    "                }\n",
    "                instances.append(instance)\n",
    "    return instances\n",
    "\n",
    "# Exemple d'utilisation\n",
    "n_values = [5, 10, 15]  # Nombre de scénarios\n",
    "p_values = [10, 15, 20] # Nombre de projets\n",
    "\n",
    "instances = generate_instances(n_values, p_values)\n",
    "len(instances)\n",
    "instances\n",
    "\n",
    "maxOWA(C_max = instances[0]['budget'], valeurs_scenarios=instances[0]['valeurs'], couts=instances[0]['cout'])\n"
   ]
  },
  {
   "cell_type": "code",
   "execution_count": 12,
   "metadata": {},
   "outputs": [
    {
     "name": "stdout",
     "output_type": "stream",
     "text": [
      "(n=15, p=10) - Temps moyen maxOWA: 0.0106 s, Temps moyen minOWA: 0.0528 s\n",
      "(n=15, p=15) - Temps moyen maxOWA: 0.0182 s, Temps moyen minOWA: 0.0731 s\n",
      "(n=15, p=20) - Temps moyen maxOWA: 0.0296 s, Temps moyen minOWA: 0.1353 s\n",
      "(n=10, p=10) - Temps moyen maxOWA: 0.0131 s, Temps moyen minOWA: 0.0319 s\n",
      "(n=10, p=15) - Temps moyen maxOWA: 0.0111 s, Temps moyen minOWA: 0.0435 s\n",
      "(n=10, p=20) - Temps moyen maxOWA: 0.0238 s, Temps moyen minOWA: 0.0648 s\n",
      "(n=5, p=10) - Temps moyen maxOWA: 0.0034 s, Temps moyen minOWA: 0.0129 s\n",
      "(n=5, p=15) - Temps moyen maxOWA: 0.0032 s, Temps moyen minOWA: 0.0160 s\n",
      "(n=5, p=20) - Temps moyen maxOWA: 0.0044 s, Temps moyen minOWA: 0.0256 s\n"
     ]
    },
    {
     "data": {
      "image/png": "[encoded data removed]",
      "text/plain": [
       "<Figure size 1200x600 with 4 Axes>"
      ]
     },
     "metadata": {},
     "output_type": "display_data"
    }
   ],
   "source": [
    "import time\n",
    "\n",
    "\n",
    "def average_resolution_time(model_function, instances):\n",
    "    \"\"\"Calcule le temps moyen de résolution pour un ensemble d'instances donné avec un modèle spécifique.\"\"\"\n",
    "    total_time = 0\n",
    "    for instance in instances:\n",
    "        start_time = time.time()\n",
    "        \n",
    "        # Appeler la fonction modèle pour résoudre l'instance\n",
    "        model_function(C_max = instances[0]['budget'], valeurs_scenarios=instances[0]['valeurs'], couts=instances[0]['cout'])\n",
    "        \n",
    "        end_time = time.time()\n",
    "        total_time += (end_time - start_time)\n",
    "    \n",
    "    # Calculer le temps moyen pour les 10 instances\n",
    "    avg_time = total_time / len(instances)\n",
    "    return avg_time\n",
    "\n",
    "def main(n_values, p_values, num_instances=10):\n",
    "    \n",
    "    maxmin_times = np.zeros((len(n_values), len(p_values)))\n",
    "    regret_times = np.zeros((len(n_values), len(p_values)))\n",
    "    \n",
    "    for i, n in enumerate(n_values):\n",
    "        for j, p in enumerate(p_values):\n",
    "            # Générer 10 instances pour le couple (n, p)\n",
    "            instances = generate_instances([n], [p], num_instances=num_instances)\n",
    "            \n",
    "            # Calculer le temps moyen pour le modèle maxmin\n",
    "            avg_time_maxmin = average_resolution_time(maxOWA, instances)\n",
    "            maxmin_times[i, j] = avg_time_maxmin\n",
    "            \n",
    "            # Calculer le temps moyen pour le modèle regret\n",
    "            avg_time_regret = average_resolution_time(minOWA, instances)\n",
    "            regret_times[i, j] = avg_time_regret\n",
    "            \n",
    "            print(f\"(n={n}, p={p}) - Temps moyen maxOWA: {avg_time_maxmin:.4f} s, Temps moyen minOWA: {avg_time_regret:.4f} s\")\n",
    "    \n",
    "    return maxmin_times, regret_times, n_values, p_values\n",
    "\n",
    "def plot_results(maxmin_times, regret_times, n_values, p_values):\n",
    "    fig, axs = plt.subplots(1, 2, figsize=(12, 6))\n",
    "    \n",
    "    # Heatmap pour le modèle maxmin\n",
    "    im1 = axs[0].imshow(maxmin_times, cmap='viridis', aspect='auto')\n",
    "    axs[0].set_title(\"Temps moyen de résolution - maxOWA\")\n",
    "    axs[0].set_xlabel(\"Nombre de projets (p)\")\n",
    "    axs[0].set_ylabel(\"Nombre de scénarios (n)\")\n",
    "    axs[0].set_xticks(np.arange(len(p_values)))\n",
    "    axs[0].set_yticks(np.arange(len(n_values)))\n",
    "    axs[0].set_xticklabels(p_values)\n",
    "    axs[0].set_yticklabels(n_values)\n",
    "    fig.colorbar(im1, ax=axs[0], orientation='vertical')\n",
    "    \n",
    "    # Heatmap pour le modèle regret\n",
    "    im2 = axs[1].imshow(regret_times, cmap='viridis', aspect='auto')\n",
    "    axs[1].set_title(\"Temps moyen de résolution - minOWA\")\n",
    "    axs[1].set_xlabel(\"Nombre de projets (p)\")\n",
    "    axs[1].set_ylabel(\"Nombre de scénarios (n)\")\n",
    "    axs[1].set_xticks(np.arange(len(p_values)))\n",
    "    axs[1].set_yticks(np.arange(len(n_values)))\n",
    "    axs[1].set_xticklabels(p_values)\n",
    "    axs[1].set_yticklabels(n_values)\n",
    "    fig.colorbar(im2, ax=axs[1], orientation='vertical')\n",
    "    \n",
    "    plt.tight_layout()\n",
    "    plt.show()\n",
    "\n",
    "# Paramètres d'entrée\n",
    "n_values = [15, 10, 5]  # Nombre de scénarios\n",
    "p_values = [10, 15, 20] # Nombre de projets\n",
    "\n",
    "# Lancer l'évaluation du temps moyen de résolution\n",
    "maxmin_times, regret_times, n_values, p_values = main(n_values, p_values)\n",
    "\n",
    "# Afficher les résultats avec matplotlib\n",
    "plot_results(maxmin_times, regret_times, n_values, p_values)\n"
   ]
  }
 ],
 "metadata": {
  "kernelspec": {
   "display_name": ".venv",
   "language": "python",
   "name": "python3"
  },
  "language_info": {
   "codemirror_mode": {
    "name": "ipython",
    "version": 3
   },
   "file_extension": ".py",
   "mimetype": "text/x-python",
   "name": "python",
   "nbconvert_exporter": "python",
   "pygments_lexer": "ipython3",
   "version": "3.10.12"
  }
 },
 "nbformat": 4,
 "nbformat_minor": 2
}
