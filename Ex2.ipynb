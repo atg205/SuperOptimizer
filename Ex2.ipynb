{
 "cells": [
  {
   "cell_type": "markdown",
   "metadata": {},
   "source": [
    "# Exercice 2"
   ]
  },
  {
   "cell_type": "markdown",
   "metadata": {},
   "source": [
    "**Question 1)**: Pour tout vecteur $ z \\in \\mathbb{R} $, on note $ L(z) $ le vecteur $ (L_1(z), \\dots, L_n(z)) $ dont la composante $ L_k(z) $ est définie par \n",
    "\n",
    "$L_k(z) = \\sum_{i=1}^{k} z(i)$.\n",
    "\n",
    "Expliquer pourquoi $ L_k(z) $ est la valeur optimale du programme linéaire en variables 0-1 suivant :\n",
    "\n",
    "$\\min \\sum_{i=1}^{n} a_{ik} z_i$\n",
    "\n",
    "sous les contraintes :\n",
    "\n",
    "$\\sum_{i=1}^{n} a_{ik} = k$,\n",
    "\n",
    "$a_{ik} \\in \\{0, 1\\}, \\quad i = 1, \\dots, n$.\n",
    "\n",
    "**Explication**: Étant donné que le vecteur $ (z_{(1)x}, \\ldots, z_{(n)x}) $ est ordonné en ordre croissant, la somme $ \\sum_{i=1}^{k} z(i) $ correspond à la somme des $ k $ plus petites valeurs de $ z_i $ et donc à la valeur optimale du programme linéaire.\n",
    "\n"
   ]
  },
  {
   "cell_type": "markdown",
   "metadata": {},
   "source": [
    "**Question 2)**: \n",
    "\n",
    "Primal:\n",
    "\n",
    "\\begin{align*}\n",
    "\\min & \\sum_{i=1}^{n} a_{ik} z_i \\\\\n",
    "\\text{s.c.} \\quad & \\sum_{i=1}^{n} a_{ik} = k \\\\\n",
    "& 0 \\leq a_{ik} \\leq 1, \\quad i = 1, \\dots, n\n",
    "\\end{align*}\n",
    "\n",
    "Dual:\n",
    "\n",
    "\\begin{align*}\n",
    "\\max & \\quad k \\cdot r_k - \\sum_{i=1}^{n} b_{ik} \\\\\n",
    "\\text{s.c.} \\quad & r_k - b_{ik} \\leq z_i, \\quad \\forall i = 1, \\dots, n \\\\\n",
    "& b_{ik} \\geq 0, \\quad \\forall i = 1, \\dots, n\n",
    "\\end{align*}\n",
    "\n",
    "Trouver $L(2,9,6,8,5,4)$:"
   ]
  },
  {
   "cell_type": "code",
   "execution_count": 1,
   "metadata": {},
   "outputs": [],
   "source": [
    "from gurobipy import *"
   ]
  },
  {
   "cell_type": "code",
   "execution_count": 2,
   "metadata": {},
   "outputs": [],
   "source": [
    "z = [2,9,6,8,5,4]\n",
    "n = len(z)"
   ]
  },
  {
   "cell_type": "code",
   "execution_count": 7,
   "metadata": {},
   "outputs": [
    {
     "name": "stdout",
     "output_type": "stream",
     "text": [
      "L_1(z) = 2\n",
      "L_2(z) = 6\n",
      "L_3(z) = 11\n",
      "L_4(z) = 17\n",
      "L_5(z) = 25\n",
      "L_6(z) = 34\n"
     ]
    }
   ],
   "source": [
    "for k in range(1,n+1):\n",
    "    model = Model()\n",
    "    model.params.LogToConsole = False\n",
    "\n",
    "    rk = model.addVar(vtype=GRB.CONTINUOUS)\n",
    "    bki = model.addVars(n,vtype=GRB.CONTINUOUS)\n",
    "\n",
    "    model.setObjective(k * rk - bki.sum(), GRB.MAXIMIZE)\n",
    "\n",
    "    model.addConstrs(((rk-bki[i])<=z[i] for i in range(n)), name='c1')\n",
    "    model.addConstrs((bki[i]>=0 for i in range(n)), name='c2')\n",
    "\n",
    "    model.optimize()\n",
    "    composante = int(model.objVal)\n",
    "    print(f\"L_{k}(z) = {composante}\")\n",
    "\n"
   ]
  },
  {
   "cell_type": "markdown",
   "metadata": {},
   "source": [
    "**Question 3:** Montrer que \n",
    "\\begin{align*}\n",
    "g(x)& =\\sum_{i=1}^{n}w_iz_{(i)}(x)\\\\\n",
    "&=\\sum_{k=1}^{n}w'_k L_k(z(x))\n",
    "\\end{align*}\n",
    "**Explication:** \n",
    "\n",
    "\\begin{align*}\n",
    "\\text{par définition: }z_{(k)}(x)&=L_k(z(x)) - L_{k-1}(z(x))\\\\\n",
    "g(x)& =\\sum_{i=1}^{n}w_iz_{(i)}(x)\\\\\n",
    "&=w_1z_{(1)}+w_2z_{(2)}+\\ldots+w_nz_{(n)}\\\\\n",
    "&=w_1L_1(z(x))+w_2(L_2(z(x))-L_1(z(x)))+\\ldots+w_n(L_n(z(x))-L_{n-1}(z(x))\\\\\n",
    "&=(w_1-w_2)L_1(z(x))+(w_2-w_3)(L_2(z(x)))+\\ldots+(w_{n-1}-w_{n})L_n\\\\\n",
    "&=\\sum^n_{k=1}w'_kL_k(z(x))\n",
    "\\end{align*}"
   ]
  },
  {
   "cell_type": "markdown",
   "metadata": {},
   "source": []
  }
 ],
 "metadata": {
  "kernelspec": {
   "display_name": ".venv",
   "language": "python",
   "name": "python3"
  },
  "language_info": {
   "codemirror_mode": {
    "name": "ipython",
    "version": 3
   },
   "file_extension": ".py",
   "mimetype": "text/x-python",
   "name": "python",
   "nbconvert_exporter": "python",
   "pygments_lexer": "ipython3",
   "version": "3.10.12"
  }
 },
 "nbformat": 4,
 "nbformat_minor": 2
}
