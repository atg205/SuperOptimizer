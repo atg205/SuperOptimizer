{
 "cells": [
  {
   "cell_type": "markdown",
   "metadata": {},
   "source": [
    "# Exercice 2"
   ]
  },
  {
   "cell_type": "markdown",
   "metadata": {},
   "source": [
    "**Question 1)**: Pour tout vecteur $ z \\in \\mathbb{R} $, on note $ L(z) $ le vecteur $ (L_1(z), \\dots, L_n(z)) $ dont la composante $ L_k(z) $ est définie par \n",
    "\n",
    "$L_k(z) = \\sum_{i=1}^{k} z(i)$.\n",
    "\n",
    "Expliquer pourquoi $ L_k(z) $ est la valeur optimale du programme linéaire en variables 0-1 suivant :\n",
    "\n",
    "$\\min \\sum_{i=1}^{n} a_{ik} z_i$\n",
    "\n",
    "sous les contraintes :\n",
    "\n",
    "$\\sum_{i=1}^{n} a_{ik} = k$,\n",
    "\n",
    "$a_{ik} \\in \\{0, 1\\}, \\quad i = 1, \\dots, n$.\n",
    "\n",
    "**Explication**: Étant donné que le vecteur $ (z_{(1)x}, \\ldots, z_{(n)x}) $ est ordonné en ordre croissant, la somme $ \\sum_{i=1}^{k} z(i) $ correspond à la somme des $ k $ plus petites valeurs de $ z_i $ et donc à la valeur optimale du programme linéaire.\n",
    "\n"
   ]
  },
  {
   "cell_type": "markdown",
   "metadata": {},
   "source": [
    "**Question 2)**: \n",
    "\n",
    "Primal:\n",
    "\n",
    "\\begin{align*}\n",
    "\\min & \\sum_{i=1}^{n} a_{ik} z_i \\\\\n",
    "\\text{s.c.} \\quad & \\sum_{i=1}^{n} a_{ik} = k \\\\\n",
    "& 0 \\leq a_{ik} \\leq 1, \\quad i = 1, \\dots, n\n",
    "\\end{align*}\n",
    "\n",
    "Dual:\n",
    "\n",
    "\\begin{align*}\n",
    "\\max & \\quad k \\cdot r_k - \\sum_{i=1}^{n} b_{ik} \\\\\n",
    "\\text{s.c.} \\quad & r_k - b_{ik} \\leq z_i, \\quad \\forall i = 1, \\dots, n \\\\\n",
    "& b_{ik} \\geq 0, \\quad \\forall i = 1, \\dots, n\n",
    "\\end{align*}\n",
    "\n",
    "Trouver $L(2,9,6,8,5,4)$:"
   ]
  },
  {
   "cell_type": "code",
   "execution_count": 47,
   "metadata": {},
   "outputs": [],
   "source": [
    "from gurobipy import *"
   ]
  },
  {
   "cell_type": "code",
   "execution_count": 48,
   "metadata": {},
   "outputs": [],
   "source": [
    "z = [2,9,6,8,5,4]\n",
    "n = len(z)"
   ]
  },
  {
   "cell_type": "code",
   "execution_count": 49,
   "metadata": {},
   "outputs": [
    {
     "name": "stdout",
     "output_type": "stream",
     "text": [
      "L_1(z) = 2\n",
      "L_2(z) = 6\n",
      "L_3(z) = 11\n",
      "L_4(z) = 17\n",
      "L_5(z) = 25\n",
      "L_6(z) = 34\n"
     ]
    }
   ],
   "source": [
    "for k in range(1,n+1):\n",
    "    model = Model()\n",
    "    model.params.LogToConsole = False\n",
    "\n",
    "    rk = model.addVar(vtype=GRB.CONTINUOUS)\n",
    "    bki = model.addVars(n,vtype=GRB.CONTINUOUS)\n",
    "\n",
    "    model.setObjective(k * rk - bki.sum(), GRB.MAXIMIZE)\n",
    "\n",
    "    model.addConstrs(((rk-bki[i])<=z[i] for i in range(n)), name='c1')\n",
    "    model.addConstrs((bki[i]>=0 for i in range(n)), name='c2')\n",
    "\n",
    "    model.optimize()\n",
    "    composante = int(model.objVal)\n",
    "    print(f\"L_{k}(z) = {composante}\")\n",
    "\n"
   ]
  },
  {
   "cell_type": "markdown",
   "metadata": {},
   "source": [
    "**Question 3:** Montrer que \n",
    "\\begin{align*}\n",
    "g(x)& =\\sum_{i=1}^{n}w_iz_{(i)}(x)\\\\\n",
    "&=\\sum_{k=1}^{n}w'_k L_k(z(x))\n",
    "\\end{align*}\n",
    "**Explication:** \n",
    "\n",
    "\\begin{align*}\n",
    "\\text{par définition: }z_{(k)}(x)&=L_k(z(x)) - L_{k-1}(z(x))\\\\\n",
    "g(x)& =\\sum_{i=1}^{n}w_iz_{(i)}(x)\\\\\n",
    "&=w_1z_{(1)}+w_2z_{(2)}+\\ldots+w_nz_{(n)}\\\\\n",
    "&=w_1L_1(z(x))+w_2(L_2(z(x))-L_1(z(x)))+\\ldots+w_n(L_n(z(x))-L_{n-1}(z(x))\\\\\n",
    "&=(w_1-w_2)L_1(z(x))+(w_2-w_3)(L_2(z(x)))+\\ldots+(w_{n-1}-w_{n})L_n\\\\\n",
    "&=\\sum^n_{k=1}w'_kL_k(z(x))\n",
    "\\end{align*}"
   ]
  },
  {
   "cell_type": "markdown",
   "metadata": {},
   "source": [
    "**Question 4:**\n",
    "\\begin{align*}\n",
    "\\max &\\sum_{k=1}^n w'_k \\left( k \\cdot r_k - \\sum_{i=1}^n b_{ik} \\right) \\\\\n",
    "\\text{s.c.} & \\quad r_k - b_{ik} \\leq z_i(x), \\quad i = 1, \\dots, n \\\\\n",
    "& \\quad b_{ik} \\geq 0, \\quad i = 1, \\dots, n \\\\\n",
    "& \\quad x \\in X\n",
    "\\end{align*}\n",
    "\n",
    "$x \\in X$ -> solution réalisables ?"
   ]
  },
  {
   "cell_type": "code",
   "execution_count": 50,
   "metadata": {},
   "outputs": [
    {
     "name": "stdout",
     "output_type": "stream",
     "text": [
      "[1, 1]\n"
     ]
    }
   ],
   "source": [
    "model = Model()\n",
    "model.params.LogToConsole = True\n",
    "\n",
    "\n",
    "# projets de l'exemple 1\n",
    "c = 100\n",
    "valeurs_scenarios = [[70,18,16,14,12,10,8,6,4,2],\n",
    "                    [2,4,6,8,10,12,14,16,18,70]]\n",
    "couts = [60,10,15,20,25,20,5,15,20,60]\n",
    "C_max = 100\n",
    "\n",
    "n_projets = len(valeurs_scenarios[0])\n",
    "n_scenarios = len(valeurs_scenarios)\n",
    "\n",
    "x = model.addVars(n_projets,vtype=GRB.BINARY,name='x')\n",
    "z = []\n",
    "for i in range(n_scenarios):\n",
    "    z.append(quicksum([valeurs_scenarios[i][j]*x[j] for j in range(n_projets)]))\n",
    "\n",
    "w = [2,1]\n",
    "n = len(w)\n",
    "\n",
    "w_apostrophe = [w[k] - w[k+1] for k in range(len(w)-1)]\n",
    "w_apostrophe.append(w[-1])\n",
    "rk = model.addVars(n,vtype=GRB.CONTINUOUS, name='rk')\n",
    "bik = []\n",
    "for k in range(n):\n",
    "    bik.append(model.addVars(n,vtype=GRB.CONTINUOUS, lb=0,name=f'bik {k}'))\n",
    "print(w_apostrophe)\n"
   ]
  },
  {
   "cell_type": "code",
   "execution_count": 51,
   "metadata": {},
   "outputs": [
    {
     "data": {
      "text/plain": [
       "<gurobi.Constr *Awaiting Model Update*>"
      ]
     },
     "execution_count": 51,
     "metadata": {},
     "output_type": "execute_result"
    }
   ],
   "source": [
    "objectif = quicksum([w_apostrophe[k]*(k*rk[k]-quicksum(bik[k][i] for i in range(n))) for k in range(n)])\n",
    "model.setObjective(objectif, GRB.MAXIMIZE)\n",
    "for k in range(n):\n",
    "    for i in range(n):\n",
    "        model.addConstr(rk[k]-bik[k][i]<=z[i]) # premiere contrainte\n",
    "        model.addConstr(bik[k][i]>=0)\n",
    "\n",
    "model.addConstr(quicksum(couts[j] * x[j] for j in range(n_projets)) <= C_max, name=\"BudgetConstraint\")\n"
   ]
  },
  {
   "cell_type": "code",
   "execution_count": 52,
   "metadata": {},
   "outputs": [
    {
     "name": "stdout",
     "output_type": "stream",
     "text": [
      "Gurobi Optimizer version 11.0.3 build v11.0.3rc0 (linux64 - \"elementary OS 7.1 Horus\")\n",
      "\n",
      "CPU model: 13th Gen Intel(R) Core(TM) i7-1355U, instruction set [SSE2|AVX|AVX2]\n",
      "Thread count: 12 physical cores, 12 logical processors, using up to 12 threads\n",
      "\n",
      "Optimize a model with 9 rows, 16 columns and 62 nonzeros\n",
      "Model fingerprint: 0xf46fdb5e\n",
      "Variable types: 6 continuous, 10 integer (10 binary)\n",
      "Coefficient statistics:\n",
      "  Matrix range     [1e+00, 7e+01]\n",
      "  Objective range  [1e+00, 1e+00]\n",
      "  Bounds range     [1e+00, 1e+00]\n",
      "  RHS range        [1e+02, 1e+02]\n",
      "Found heuristic solution: objective -0.0000000\n",
      "Presolve removed 6 rows and 3 columns\n",
      "Presolve time: 0.00s\n",
      "Presolved: 3 rows, 13 columns, 34 nonzeros\n",
      "Variable types: 3 continuous, 10 integer (10 binary)\n",
      "\n",
      "Root relaxation: objective 7.700000e+01, 5 iterations, 0.00 seconds (0.00 work units)\n",
      "\n",
      "    Nodes    |    Current Node    |     Objective Bounds      |     Work\n",
      " Expl Unexpl |  Obj  Depth IntInf | Incumbent    BestBd   Gap | It/Node Time\n",
      "\n",
      "     0     0   77.00000    0    2   -0.00000   77.00000      -     -    0s\n",
      "H    0     0                      40.0000000   77.00000  92.5%     -    0s\n",
      "H    0     0                      44.0000000   77.00000  75.0%     -    0s\n",
      "H    0     0                      52.0000000   77.00000  48.1%     -    0s\n",
      "H    0     0                      62.0000000   77.00000  24.2%     -    0s\n",
      "H    0     0                      66.0000000   77.00000  16.7%     -    0s\n",
      "\n",
      "Cutting planes:\n",
      "  Gomory: 3\n",
      "  Cover: 1\n",
      "  MIR: 4\n",
      "\n",
      "Explored 1 nodes (5 simplex iterations) in 0.01 seconds (0.00 work units)\n",
      "Thread count was 12 (of 12 available processors)\n",
      "\n",
      "Solution count 6: 66 62 52 ... -0\n",
      "\n",
      "Optimal solution found (tolerance 1.00e-04)\n",
      "Best objective 6.600000000000e+01, best bound 6.600000000000e+01, gap 0.0000%\n"
     ]
    },
    {
     "data": {
      "text/plain": [
       "66.0"
      ]
     },
     "execution_count": 52,
     "metadata": {},
     "output_type": "execute_result"
    }
   ],
   "source": [
    "model.optimize()\n",
    "model.ObjVal"
   ]
  },
  {
   "cell_type": "code",
   "execution_count": 53,
   "metadata": {},
   "outputs": [
    {
     "data": {
      "text/plain": [
       "[1, 2, 3, 6, 7, 8]"
      ]
     },
     "execution_count": 53,
     "metadata": {},
     "output_type": "execute_result"
    }
   ],
   "source": [
    "objets_selectiones = [i for i in range(n_projets) if x[i].X > 0.5]\n",
    "objets_selectiones"
   ]
  },
  {
   "cell_type": "code",
   "execution_count": 54,
   "metadata": {},
   "outputs": [
    {
     "data": {
      "text/plain": [
       "66.0"
      ]
     },
     "execution_count": 54,
     "metadata": {},
     "output_type": "execute_result"
    }
   ],
   "source": [
    "model.ObjVal"
   ]
  },
  {
   "cell_type": "markdown",
   "metadata": {},
   "source": [
    "**Question 5:** trouver un formulation linéaire pour le critère de *minOWA*\n",
    "\n",
    "**Réponse:** \n",
    "\n",
    "Primal:\n",
    "\\begin{align*}\n",
    "    L_k(z)&=\\sum_{i=1}^{k} r(x,s_{(i)}) \\text{ regret en ordre décroissant, donc:}\\\\\n",
    "    \\max &\\sum_{i=1}^n a_{ik} r(x,s_{(i)})\\\\\n",
    "\\text{s.c.} \\quad & \\sum_{i=1}^{n} a_{ik} = k \\\\\n",
    "& 0 \\leq a_{ik} \\leq 1, \\quad i = 1, \\dots, n\n",
    "\\end{align*}\n",
    "$r(x,s_{(i)}) = z_i^*-z_i(x)$\n",
    "\n",
    "Dual:\n",
    "\\begin{align*}\n",
    "\\min & \\quad k \\cdot r_k + \\sum_{i=1}^{n} b_{ik} \\\\\n",
    "\\text{s.c.} \\quad & r_k - b_{ik} \\geq r(x,s_{(i)}), \\quad \\forall i = 1, \\dots, n \\\\\n",
    "& b_{ik} \\geq 0, \\quad \\forall i = 1, \\dots, n\n",
    "\\end{align*}\n",
    "\n",
    "Formulation entière:\n",
    "\n",
    "\\begin{align*}\n",
    "\\min &\\sum_{k=1}^n w'_k \\left( k \\cdot r_k + \\sum_{i=1}^n b_{ik} \\right) \\\\\n",
    "\\text{s.c.} & \\quad r_k - b_{ik} \\geq r(x,s_{(i)}), \\quad i = 1, \\dots, n \\\\\n",
    "& \\quad b_{ik} \\geq 0, \\quad i = 1, \\dots, n \\\\\n",
    "& \\quad x \\in X\n",
    "\\end{align*}"
   ]
  },
  {
   "cell_type": "code",
   "execution_count": 55,
   "metadata": {},
   "outputs": [
    {
     "data": {
      "text/plain": [
       "[112, 118]"
      ]
     },
     "execution_count": 55,
     "metadata": {},
     "output_type": "execute_result"
    }
   ],
   "source": [
    "# trouver z*\n",
    "\n",
    "def model_sad_maxmin(c,valeurs_scenarios, p):\n",
    "    n = len(p)\n",
    "    model = Model()\n",
    "    model.params.LogToConsole = False\n",
    "\n",
    "    t = model.addVar(vtype = GRB.INTEGER)\n",
    "    x = model.addVars(n, vtype=GRB.BINARY)\n",
    "\n",
    "    model.setObjective(t, GRB.MAXIMIZE)\n",
    "\n",
    "    model.addConstr(quicksum(p[i] * x[i] for i in range(n)) <= c) # contraint de poids maximum\n",
    "\n",
    "    for s_p in valeurs_scenarios:\n",
    "        model.addConstr(t <= quicksum(s_p[i] * x[i] for i in range(n))) # contraint de valeur minimale pour scénario s\n",
    "\n",
    "    model.optimize()\n",
    "    objets_selectiones = [i for i in range(n) if x[i].X > 0.5]\n",
    "    profit = int(model.objVal)\n",
    "\n",
    "    vecteur_image_z = []\n",
    "    for v_s in valeurs_scenarios:\n",
    "        vecteur_image_z.append(sum([v for i,v in enumerate(v_s) if i in objets_selectiones]))\n",
    "\n",
    "    return {'vecteur_z':vecteur_image_z, 'objets': objets_selectiones, 'profit': profit}\n",
    "\n",
    "z_etoile = []\n",
    "for v_s in valeurs_scenarios:\n",
    "    gurobi_solution = model_sad_maxmin(c=C_max, valeurs_scenarios=[v_s], p=couts) # model_sad_maxmin avec un scénario est égal à optimiser le problème sad\n",
    "    z_etoile.append(gurobi_solution['profit'])\n",
    "z_etoile"
   ]
  },
  {
   "cell_type": "code",
   "execution_count": 56,
   "metadata": {},
   "outputs": [
    {
     "name": "stdout",
     "output_type": "stream",
     "text": [
      "[1, 1]\n"
     ]
    },
    {
     "data": {
      "text/plain": [
       "<gurobi.Constr *Awaiting Model Update*>"
      ]
     },
     "execution_count": 56,
     "metadata": {},
     "output_type": "execute_result"
    }
   ],
   "source": [
    "model = Model()\n",
    "model.params.LogToConsole = True\n",
    "\n",
    "n_projets = len(valeurs_scenarios[0])\n",
    "n_scenarios = len(valeurs_scenarios)\n",
    "\n",
    "x = model.addVars(n_projets,vtype=GRB.BINARY,name='x')\n",
    "\n",
    "w = [2,1]\n",
    "n = len(w)\n",
    "\n",
    "# calculer le regret r(x,s(i))\n",
    "r = []\n",
    "for i in range(n_scenarios):\n",
    "    z = quicksum([valeurs_scenarios[i][j]*x[j] for j in range(n_projets)])\n",
    "    r.append(z_etoile[i]-z)\n",
    "\n",
    "w_apostrophe = [w[k] - w[k+1] for k in range(len(w)-1)]\n",
    "w_apostrophe.append(w[-1])\n",
    "rk = model.addVars(n,vtype=GRB.CONTINUOUS, name='rk')\n",
    "bik = []\n",
    "for k in range(n):\n",
    "    bik.append(model.addVars(n,vtype=GRB.CONTINUOUS, lb=0,name=f'bik {k}'))\n",
    "print(w_apostrophe)\n",
    "\n",
    "objectif = quicksum([w_apostrophe[k]*(k*rk[k]+quicksum(bik[k][i] for i in range(n))) for k in range(n)])\n",
    "model.setObjective(objectif, GRB.MINIMIZE)\n",
    "for k in range(n):\n",
    "    for i in range(n):\n",
    "        model.addConstr(rk[k]-bik[k][i]>=r[i]) # premiere contrainte\n",
    "        model.addConstr(bik[k][i]>=0)\n",
    "\n",
    "model.addConstr(quicksum(couts[j] * x[j] for j in range(n_projets)) <= C_max, name=\"BudgetConstraint\")\n",
    "\n"
   ]
  },
  {
   "cell_type": "code",
   "execution_count": 57,
   "metadata": {},
   "outputs": [
    {
     "name": "stdout",
     "output_type": "stream",
     "text": [
      "Gurobi Optimizer version 11.0.3 build v11.0.3rc0 (linux64 - \"elementary OS 7.1 Horus\")\n",
      "\n",
      "CPU model: 13th Gen Intel(R) Core(TM) i7-1355U, instruction set [SSE2|AVX|AVX2]\n",
      "Thread count: 12 physical cores, 12 logical processors, using up to 12 threads\n",
      "\n",
      "Optimize a model with 9 rows, 16 columns and 62 nonzeros\n",
      "Model fingerprint: 0x1b901db1\n",
      "Variable types: 6 continuous, 10 integer (10 binary)\n",
      "Coefficient statistics:\n",
      "  Matrix range     [1e+00, 7e+01]\n",
      "  Objective range  [1e+00, 1e+00]\n",
      "  Bounds range     [1e+00, 1e+00]\n",
      "  RHS range        [1e+02, 1e+02]\n",
      "Found heuristic solution: objective 118.0000000\n",
      "Presolve removed 6 rows and 5 columns\n",
      "Presolve time: 0.00s\n",
      "Presolved: 3 rows, 11 columns, 32 nonzeros\n",
      "Variable types: 0 continuous, 11 integer (10 binary)\n",
      "Found heuristic solution: objective 116.0000000\n",
      "\n",
      "Root relaxation: objective 3.800000e+01, 7 iterations, 0.00 seconds (0.00 work units)\n",
      "\n",
      "    Nodes    |    Current Node    |     Objective Bounds      |     Work\n",
      " Expl Unexpl |  Obj  Depth IntInf | Incumbent    BestBd   Gap | It/Node Time\n",
      "\n",
      "     0     0   38.00000    0    2  116.00000   38.00000  67.2%     -    0s\n",
      "H    0     0                      76.0000000   38.00000  50.0%     -    0s\n",
      "H    0     0                      72.0000000   38.00000  47.2%     -    0s\n",
      "H    0     0                      68.0000000   38.00000  44.1%     -    0s\n",
      "H    0     0                      58.0000000   38.00000  34.5%     -    0s\n",
      "H    0     0                      56.0000000   38.00000  32.1%     -    0s\n",
      "H    0     0                      52.0000000   38.00000  26.9%     -    0s\n",
      "H    0     0                      50.0000000   42.00000  16.0%     -    0s\n",
      "     0     0   42.00000    0    1   50.00000   42.00000  16.0%     -    0s\n",
      "     0     0   42.00000    0    1   50.00000   42.00000  16.0%     -    0s\n",
      "     0     0 infeasible    0        50.00000   50.00000  0.00%     -    0s\n",
      "\n",
      "Cutting planes:\n",
      "  Cover: 1\n",
      "  MIR: 1\n",
      "\n",
      "Explored 1 nodes (12 simplex iterations) in 0.02 seconds (0.00 work units)\n",
      "Thread count was 12 (of 12 available processors)\n",
      "\n",
      "Solution count 9: 50 52 56 ... 118\n",
      "\n",
      "Optimal solution found (tolerance 1.00e-04)\n",
      "Best objective 5.000000000000e+01, best bound 5.000000000000e+01, gap 0.0000%\n"
     ]
    },
    {
     "data": {
      "text/plain": [
       "50.0"
      ]
     },
     "execution_count": 57,
     "metadata": {},
     "output_type": "execute_result"
    }
   ],
   "source": [
    "model.optimize()\n",
    "model.ObjVal"
   ]
  },
  {
   "cell_type": "code",
   "execution_count": 58,
   "metadata": {},
   "outputs": [
    {
     "data": {
      "text/plain": [
       "[1, 2, 5, 6, 7, 8]"
      ]
     },
     "execution_count": 58,
     "metadata": {},
     "output_type": "execute_result"
    }
   ],
   "source": [
    "objets_selectiones = [i for i in range(n_projets) if x[i].X > 0.5]\n",
    "objets_selectiones\n"
   ]
  }
 ],
 "metadata": {
  "kernelspec": {
   "display_name": ".venv",
   "language": "python",
   "name": "python3"
  },
  "language_info": {
   "codemirror_mode": {
    "name": "ipython",
    "version": 3
   },
   "file_extension": ".py",
   "mimetype": "text/x-python",
   "name": "python",
   "nbconvert_exporter": "python",
   "pygments_lexer": "ipython3",
   "version": "3.10.12"
  }
 },
 "nbformat": 4,
 "nbformat_minor": 2
}
