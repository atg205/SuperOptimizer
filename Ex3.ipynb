{
 "cells": [
  {
   "cell_type": "markdown",
   "metadata": {},
   "source": [
    "# Exercice 3   "
   ]
  },
  {
   "cell_type": "markdown",
   "metadata": {},
   "source": [
    "**Question 1**: Modelisation du problème de plus court chemin comme problème du flot de coût minimum\n",
    "\n",
    "$G=(V,E)$, source: $s \\in V$, puit: $t \\in V$\n",
    "\n",
    "$a(u,v)$: cout pour passer de u à v, $f(u,v)=1$ si $(u,v) \\in $ {plus court chemin} \n",
    "\n",
    "Programme linéaire:\n",
    "\\begin{align*}\n",
    "\\min&\\sum_{(u,v)\\in E} a(u,v)f(u,v)&\\\\\n",
    "s.c.& \\sum_{(u,v)\\in E}f(u,v) = \\sum_{(v,w)\\in E}f(v,u) \\quad \\forall v \\in V \\setminus \\{s, t\\}& \\text{, contrainte de conservation du flux}\\\\\n",
    "    & \\sum_{s,v \\in E} f(s,v) >= 1 &\\text{ , contrainte de flux sortant de la source}\\\\\n",
    "    &f(u,v)\\in (0,1) \\quad \\forall (u,v) \\in E&\n",
    "\\end{align*}"
   ]
  },
  {
   "cell_type": "code",
   "execution_count": 45,
   "metadata": {},
   "outputs": [
    {
     "data": {
      "text/plain": [
       "('a', 'f')"
      ]
     },
     "execution_count": 45,
     "metadata": {},
     "output_type": "execute_result"
    }
   ],
   "source": [
    "couts = {\n",
    "    ('a','b'): 4,\n",
    "    ('a','c'): 5,\n",
    "    ('b','c'): 2,\n",
    "    ('b','d'): 1,\n",
    "    ('b','e'): 2,\n",
    "    ('b','f'): 7,\n",
    "    ('c','d'): 5,\n",
    "    ('c','e'): 2,\n",
    "    ('d','f'): 3,\n",
    "    ('e','f'): 5\n",
    "}\n",
    "\n",
    "noeuds = set()\n",
    "for arc in couts:\n",
    "    noeuds.update(arc)\n",
    "noeuds = list(noeuds)\n",
    "\n",
    "source = min(noeuds)\n",
    "puits = max(noeuds)\n",
    "source, puits"
   ]
  },
  {
   "cell_type": "code",
   "execution_count": 46,
   "metadata": {},
   "outputs": [],
   "source": [
    "from gurobipy import *"
   ]
  },
  {
   "cell_type": "code",
   "execution_count": 47,
   "metadata": {},
   "outputs": [
    {
     "data": {
      "text/plain": [
       "10"
      ]
     },
     "execution_count": 47,
     "metadata": {},
     "output_type": "execute_result"
    }
   ],
   "source": [
    "len(couts.keys())"
   ]
  },
  {
   "cell_type": "code",
   "execution_count": 61,
   "metadata": {},
   "outputs": [
    {
     "name": "stdout",
     "output_type": "stream",
     "text": [
      "Gurobi Optimizer version 11.0.3 build v11.0.3rc0 (linux64 - \"elementary OS 7.1 Horus\")\n",
      "\n",
      "CPU model: 13th Gen Intel(R) Core(TM) i7-1355U, instruction set [SSE2|AVX|AVX2]\n",
      "Thread count: 12 physical cores, 12 logical processors, using up to 12 threads\n",
      "\n",
      "Optimize a model with 5 rows, 10 columns and 17 nonzeros\n",
      "Model fingerprint: 0x410a0458\n",
      "Variable types: 0 continuous, 10 integer (10 binary)\n",
      "Coefficient statistics:\n",
      "  Matrix range     [1e+00, 1e+00]\n",
      "  Objective range  [1e+00, 7e+00]\n",
      "  Bounds range     [1e+00, 1e+00]\n",
      "  RHS range        [1e+00, 1e+00]\n",
      "Presolve time: 0.00s\n",
      "Presolved: 5 rows, 10 columns, 17 nonzeros\n",
      "Variable types: 0 continuous, 10 integer (10 binary)\n",
      "Found heuristic solution: objective 12.0000000\n",
      "Found heuristic solution: objective 11.0000000\n",
      "Found heuristic solution: objective 8.0000000\n",
      "\n",
      "Root relaxation: cutoff, 5 iterations, 0.00 seconds (0.00 work units)\n",
      "\n",
      "    Nodes    |    Current Node    |     Objective Bounds      |     Work\n",
      " Expl Unexpl |  Obj  Depth IntInf | Incumbent    BestBd   Gap | It/Node Time\n",
      "\n",
      "     0     0     cutoff    0         8.00000    8.00000  0.00%     -    0s\n",
      "\n",
      "Explored 1 nodes (5 simplex iterations) in 0.01 seconds (0.00 work units)\n",
      "Thread count was 12 (of 12 available processors)\n",
      "\n",
      "Solution count 3: 8 11 12 \n",
      "\n",
      "Optimal solution found (tolerance 1.00e-04)\n",
      "Best objective 8.000000000000e+00, best bound 8.000000000000e+00, gap 0.0000%\n"
     ]
    }
   ],
   "source": [
    "model = Model()\n",
    "nombre_arcs = len(couts)\n",
    "f = model.addVars(couts.keys(), vtype = GRB.BINARY, name='f')\n",
    "model.setObjective(quicksum([f[i,j] * cout for (i,j),cout in couts.items()]), GRB.MINIMIZE)\n",
    "\n",
    "# contrainte de conservation du flux\n",
    "for v in noeuds:\n",
    "    if v == source or v == puits:\n",
    "        continue\n",
    "    flux_entrant = quicksum([f[i,v] for i,j in couts if j == v])\n",
    "    flux_sortant = quicksum([f[v,j] for i,j in couts if i == v])\n",
    "    model.addConstr(flux_entrant == flux_sortant)\n",
    "\n",
    "#for arc, cout in couts.items():\n",
    "    #model.addConstr(f[arc] <= cout )    # contrainte de capacité\n",
    "    #model.addConstr(f[arc] >= 0)        # contrainte de non-negativité\n",
    "\n",
    "\n",
    "model.addConstr(quicksum([f[source, j] for i,j in couts if i == source]) >= 1)\n",
    "\n",
    "\n",
    "model.optimize()\n"
   ]
  },
  {
   "cell_type": "code",
   "execution_count": 62,
   "metadata": {},
   "outputs": [
    {
     "data": {
      "text/plain": [
       "[('a', 'b'), ('b', 'd'), ('d', 'f')]"
      ]
     },
     "execution_count": 62,
     "metadata": {},
     "output_type": "execute_result"
    }
   ],
   "source": [
    "objets_selectiones = [(i,j) for i,j in couts if f[i,j].X > 0.5]\n",
    "objets_selectiones"
   ]
  }
 ],
 "metadata": {
  "kernelspec": {
   "display_name": ".venv",
   "language": "python",
   "name": "python3"
  },
  "language_info": {
   "codemirror_mode": {
    "name": "ipython",
    "version": 3
   },
   "file_extension": ".py",
   "mimetype": "text/x-python",
   "name": "python",
   "nbconvert_exporter": "python",
   "pygments_lexer": "ipython3",
   "version": "3.10.12"
  }
 },
 "nbformat": 4,
 "nbformat_minor": 2
}
