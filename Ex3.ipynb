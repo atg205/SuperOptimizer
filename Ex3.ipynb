{
 "cells": [
  {
   "cell_type": "markdown",
   "metadata": {},
   "source": [
    "# Exercice 3   "
   ]
  },
  {
   "cell_type": "markdown",
   "metadata": {},
   "source": [
    "**Question 1**: Modelisation du problème de plus court chemin comme problème du flot de coût minimum\n",
    "\n",
    "$G=(V,E)$, source: $s \\in V$, puit: $t \\in V$\n",
    "\n",
    "$a(u,v)$: cout pour passer de u à v, $f(u,v)=1$ si $(u,v) \\in $ {plus court chemin} \n",
    "\n",
    "Programme linéaire:\n",
    "\\begin{align*}\n",
    "\\min&\\sum_{(u,v)\\in E} a(u,v)f(u,v)&\\\\\n",
    "s.c.& \\sum_{(u,v)\\in E}f(u,v) = \\sum_{(v,w)\\in E}f(v,w) \\quad \\forall v \\in V \\setminus \\{s, t\\}& \\text{, contrainte de conservation du flux}\\\\\n",
    "    & \\sum_{s,v \\in E} f(s,v) >= 1 &\\text{ , contrainte de flux sortant de la source}\\\\\n",
    "    &f(u,v)\\in (0,1) \\quad \\forall (u,v) \\in E&\n",
    "\\end{align*}"
   ]
  },
  {
   "cell_type": "markdown",
   "metadata": {},
   "source": [
    "**Question 2:** Application aux exemples"
   ]
  },
  {
   "cell_type": "code",
   "execution_count": 13,
   "metadata": {},
   "outputs": [],
   "source": [
    "from gurobipy import *"
   ]
  },
  {
   "cell_type": "code",
   "execution_count": 14,
   "metadata": {},
   "outputs": [],
   "source": [
    "couts_i1 = [{\n",
    "        ('a','b'): 4,\n",
    "        ('a','c'): 5,\n",
    "        ('b','c'): 2,\n",
    "        ('b','d'): 1,\n",
    "        ('b','e'): 2,\n",
    "        ('b','f'): 7,\n",
    "        ('c','d'): 5,\n",
    "        ('c','e'): 2,\n",
    "        ('d','f'): 3,\n",
    "        ('e','f'): 5\n",
    "    },\n",
    "    {\n",
    "        ('a','b'): 3,\n",
    "        ('a','c'): 1,\n",
    "        ('b','c'): 1,\n",
    "        ('b','d'): 4,\n",
    "        ('b','e'): 2,\n",
    "        ('b','f'): 5,\n",
    "        ('c','d'): 1,\n",
    "        ('c','e'): 7,\n",
    "        ('d','f'): 2,\n",
    "        ('e','f'): 2\n",
    "    }\n",
    "]\n",
    "\n",
    "couts_i2 = [\n",
    "    {\n",
    "        ('a','b'): 5,\n",
    "        ('a','c'): 10,\n",
    "        ('a','d'): 2,\n",
    "        ('b','c'): 4,\n",
    "        ('b','d'): 1,\n",
    "        ('b','e'): 4,\n",
    "        ('c','e'): 3,\n",
    "        ('c','f'): 1,\n",
    "        ('d','c'): 1,\n",
    "        ('d','f'): 3,\n",
    "        ('e','g'): 1,\n",
    "        ('f','g'): 1\n",
    "    },\n",
    "    {\n",
    "        ('a','b'): 3,\n",
    "        ('a','c'): 4,\n",
    "        ('a','d'): 6,\n",
    "        ('b','c'): 2,\n",
    "        ('b','d'): 3,\n",
    "        ('b','e'): 6,\n",
    "        ('c','e'): 1,\n",
    "        ('c','f'): 2,\n",
    "        ('d','c'): 4,\n",
    "        ('d','f'): 5,\n",
    "        ('e','g'): 1,\n",
    "        ('f','g'): 1\n",
    "    }\n",
    "]\n",
    "\n"
   ]
  },
  {
   "cell_type": "code",
   "execution_count": 15,
   "metadata": {},
   "outputs": [],
   "source": [
    "def minFlow(couts):\n",
    "    # trouver noeuds\n",
    "    noeuds = set()\n",
    "    for arc in couts:\n",
    "        noeuds.update(arc)\n",
    "    noeuds = list(noeuds)\n",
    "\n",
    "    source = min(noeuds)\n",
    "    puits = max(noeuds)\n",
    "    source, puits\n",
    "\n",
    "    model = Model()\n",
    "    model.params.LogToConsole = False\n",
    "\n",
    "    nombre_arcs = len(couts)\n",
    "    f = model.addVars(couts.keys(), vtype = GRB.BINARY, name='f')\n",
    "    model.setObjective(quicksum([f[i,j] * cout for (i,j),cout in couts.items()]), GRB.MINIMIZE)\n",
    "\n",
    "    # contrainte de conservation du flux\n",
    "    for v in noeuds:\n",
    "        if v == source or v == puits:\n",
    "            continue\n",
    "        flux_entrant = quicksum([f[i,v] for i,j in couts if j == v])\n",
    "        flux_sortant = quicksum([f[v,j] for i,j in couts if i == v])\n",
    "        model.addConstr(flux_entrant == flux_sortant)\n",
    "\n",
    "    #for arc, cout in couts.items():\n",
    "        #model.addConstr(f[arc] <= cout )    # contrainte de capacité\n",
    "        #model.addConstr(f[arc] >= 0)        # contrainte de non-negativité\n",
    "\n",
    "\n",
    "    model.addConstr(quicksum([f[source, j] for i,j in couts if i == source]) >= 1)\n",
    "\n",
    "\n",
    "    model.optimize()\n",
    "    objets_selectiones = [(i,j) for i,j in couts if f[i,j].X > 0.5]\n",
    "    print('Chemin: ', objets_selectiones,', coût: ', int(model.ObjVal))"
   ]
  },
  {
   "cell_type": "code",
   "execution_count": 16,
   "metadata": {},
   "outputs": [
    {
     "name": "stdout",
     "output_type": "stream",
     "text": [
      "Plus court chemin de l'instance 0 : \n",
      "Scénario 0:\n",
      "Chemin:  [('a', 'b'), ('b', 'd'), ('d', 'f')] , coût:  8\n",
      "Scénario 1:\n",
      "Chemin:  [('a', 'c'), ('c', 'd'), ('d', 'f')] , coût:  4\n",
      "Plus court chemin de l'instance 1 : \n",
      "Scénario 0:\n",
      "Chemin:  [('a', 'd'), ('c', 'f'), ('d', 'c'), ('f', 'g')] , coût:  5\n",
      "Scénario 1:\n",
      "Chemin:  [('a', 'c'), ('c', 'e'), ('e', 'g')] , coût:  6\n"
     ]
    }
   ],
   "source": [
    "for i, couts_instances in enumerate([couts_i1, couts_i2]):\n",
    "    print(f\"Plus court chemin de l'instance {i} : \")\n",
    "    for j,couts in enumerate(couts_instances):\n",
    "        print(f\"Scénario {j}:\")\n",
    "        minFlow(couts)\n"
   ]
  },
  {
   "cell_type": "markdown",
   "metadata": {},
   "source": [
    "**Question 3:**\n",
    "\n",
    "## maxmin\n",
    "Programme linéaire pour $n$ scénarios:\n",
    "\\begin{align*}\n",
    "\\min\\quad   & t&&\\\\\n",
    "s.c.\\quad   &t>=\\sum_{(u,v)\\in E} a_i(u,v)f(u,v)&i\\in\\{1,\\ldots,n\\}\\\\\n",
    "            & \\sum_{(u,v)\\in E}f(u,v) = \\sum_{(v,w)\\in E}f(v,w) \\quad \\forall v \\in V \\setminus \\{s, t\\}& \\text{, contrainte de conservation du flux}\\\\\n",
    "            & \\sum_{s,v \\in E} f(s,v) >= 1 &\\text{ , contrainte de flux sortant de la source}&\\\\\n",
    "            &f(u,v)\\in \\{0,1\\} \\quad \\forall (u,v) \\in E&\n",
    "\\end{align*}"
   ]
  },
  {
   "cell_type": "code",
   "execution_count": 43,
   "metadata": {},
   "outputs": [],
   "source": [
    "def minFlowMaxMin(valeurs_scenarios):\n",
    "    # trouver noeuds\n",
    "    # on suppose que tous les scénarios ont les mêmes arcs\n",
    "\n",
    "\n",
    "    noeuds = set()\n",
    "    for arc in valeurs_scenarios[0]:\n",
    "        noeuds.update(arc)\n",
    "    noeuds = list(noeuds)\n",
    "\n",
    "    source = min(noeuds)\n",
    "    puits = max(noeuds)\n",
    "    source, puits\n",
    "\n",
    "    model = Model()\n",
    "    model.params.LogToConsole = False\n",
    "\n",
    "    f = model.addVars(valeurs_scenarios[0].keys(), vtype = GRB.BINARY, name='f')\n",
    "    t = model.addVar(vtype = GRB.INTEGER)\n",
    "\n",
    "\n",
    "    model.setObjective(t, GRB.MINIMIZE)\n",
    "   \n",
    "    # contrainte de t\n",
    "    for couts in valeurs_scenarios:\n",
    "        model.addConstr(t >= quicksum([f[i,j] * cout for (i,j),cout in couts.items()]))\n",
    "\n",
    "    # contrainte de conservation du flux\n",
    "    for v in noeuds:\n",
    "        if v == source or v == puits:\n",
    "            continue\n",
    "        flux_entrant = quicksum([f[i,v] for i,j in couts if j == v])\n",
    "        flux_sortant = quicksum([f[v,j] for i,j in couts if i == v])\n",
    "        model.addConstr(flux_entrant == flux_sortant)\n",
    "\n",
    "    #for arc, cout in couts.items():\n",
    "        #model.addConstr(f[arc] <= cout )    # contrainte de capacité\n",
    "        #model.addConstr(f[arc] >= 0)        # contrainte de non-negativité\n",
    "\n",
    "\n",
    "    model.addConstr(quicksum([f[source, j] for i,j in couts if i == source]) >= 1)\n",
    "\n",
    "\n",
    "    model.optimize()\n",
    "\n",
    "    objets_selectiones = [(i,j) for i,j in couts if f[i,j].X > 0.5]\n",
    "\n",
    "    vecteur_z = []\n",
    "    for v_s in valeurs_scenarios:\n",
    "        vecteur_z.append(sum([v_s[i,j] for (i,j) in objets_selectiones]))\n",
    "\n",
    "    print('Chemin: ', objets_selectiones,', coût: ', int(model.ObjVal), ' vecteur_z: ', vecteur_z)"
   ]
  },
  {
   "cell_type": "code",
   "execution_count": 44,
   "metadata": {},
   "outputs": [
    {
     "name": "stdout",
     "output_type": "stream",
     "text": [
      "Plus court chemin de l'instance 0 : \n",
      "Chemin:  [('a', 'b'), ('b', 'd'), ('d', 'f')] , coût:  9  vecteur_z:  [8, 9]\n",
      "Plus court chemin de l'instance 1 : \n",
      "Chemin:  [('a', 'b'), ('b', 'e'), ('e', 'g')] , coût:  10  vecteur_z:  [10, 10]\n"
     ]
    }
   ],
   "source": [
    "for i, couts_instances in enumerate([couts_i1, couts_i2]):\n",
    "    print(f\"Plus court chemin de l'instance {i} : \")\n",
    "    minFlowMaxMin(couts_instances)\n"
   ]
  },
  {
   "cell_type": "markdown",
   "metadata": {},
   "source": [
    "## minmax regret\n",
    "Programme linéaire pour $n$ scénarios:\n",
    "\\begin{align*}\n",
    "\\min\\quad   & t&&\\\\\n",
    "s.c.\\quad   &t>=\\sum_{(u,v)\\in E} a_i(u,v)f(u,v)&i\\in\\{1,\\ldots,n\\}\\\\\n",
    "            & \\sum_{(u,v)\\in E}f(u,v) = \\sum_{(v,w)\\in E}f(v,w) \\quad \\forall v \\in V \\setminus \\{s, t\\}& \\text{, contrainte de conservation du flux}\\\\\n",
    "            & \\sum_{s,v \\in E} f(s,v) >= 1 &\\text{ , contrainte de flux sortant de la source}&\\\\\n",
    "            &f(u,v)\\in \\{0,1\\} \\quad \\forall (u,v) \\in E&\n",
    "\\end{align*}"
   ]
  }
 ],
 "metadata": {
  "kernelspec": {
   "display_name": ".venv",
   "language": "python",
   "name": "python3"
  },
  "language_info": {
   "codemirror_mode": {
    "name": "ipython",
    "version": 3
   },
   "file_extension": ".py",
   "mimetype": "text/x-python",
   "name": "python",
   "nbconvert_exporter": "python",
   "pygments_lexer": "ipython3",
   "version": "3.10.12"
  }
 },
 "nbformat": 4,
 "nbformat_minor": 2
}
